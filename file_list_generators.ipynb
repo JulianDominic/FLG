{
 "cells": [
  {
   "cell_type": "code",
   "execution_count": 19,
   "metadata": {},
   "outputs": [],
   "source": [
    "# imports\n",
    "import csv\n",
    "import os\n",
    "from datetime import date\n",
    "from pathlib import Path"
   ]
  },
  {
   "cell_type": "code",
   "execution_count": 20,
   "metadata": {},
   "outputs": [],
   "source": [
    "def main():\n",
    "    # Folder to search\n",
    "    dir=\"Z:\"\n",
    "    file_letter = dir[0]\n",
    "\n",
    "    # My Folders are already in (Folder A, Folder B, Folder C)\n",
    "    top_level_folders = os.listdir(dir)\n",
    "    for top_level_folder_name in top_level_folders:\n",
    "        # Get the specific folder to search\n",
    "        dir = os.path.join(dir, f\"\\{top_level_folder_name}\")\n",
    "        catalogue = []\n",
    "        for parent, subdir, file in os.walk(dir):\n",
    "            parent = clean_path(parent, dir)\n",
    "            items = (parent, subdir, file)\n",
    "            # If subdir list is empty, it means that there are only files in the \"parent\" directory\n",
    "            if not(subdir):\n",
    "                catalogue.append({\"Folder Path\": parent, \"File Names\": file})\n",
    "        write_to_csv(file_letter, catalogue, top_level_folder_name)\n",
    "\n",
    "\n",
    "def write_to_csv(file_letter, catalogue, top_level_folder_name):\n",
    "    today = date.today()\n",
    "    Path(f\".\\{file_letter}\\{top_level_folder_name}\\{today}\").mkdir(parents=True, exist_ok=True)\n",
    "\n",
    "    # CSV Headers\n",
    "    headers = [\"Folder Path\", \"File Name\"]\n",
    "    \n",
    "    # Writing to CSV\n",
    "    video_ext = (\"mp4\", \"mkv\", \"srt\")\n",
    "    non_video_files = []\n",
    "    \n",
    "    with open(f\".\\{file_letter}\\{top_level_folder_name}\\{today}\\{top_level_folder_name}_Files - {today}.csv\", \"w\", encoding=\"UTF-8\", newline=\"\") as f:\n",
    "        writer = csv.DictWriter(f, fieldnames=headers)\n",
    "\n",
    "        # Write the headers\n",
    "        writer.writeheader()\n",
    "\n",
    "        # Write each of the individual rows\n",
    "        for i in catalogue:\n",
    "            folder_path = i[\"Folder Path\"]\n",
    "            file_names = i[\"File Names\"]\n",
    "            for file_name in file_names:\n",
    "                file_name: str\n",
    "                if file_name.endswith(video_ext):\n",
    "                    writer.writerow({\"Folder Path\": folder_path, \"File Name\": file_name})\n",
    "                else:\n",
    "                    non_video_files.append(file_name)\n",
    "\n",
    "    # Create .txt file to track the non video files (exlcuding srt)\n",
    "    with open(f\".\\{file_letter}\\{top_level_folder_name}\\{today}\\{top_level_folder_name}_Non-Video_Files - {today}.txt\", \"w\", encoding=\"UTF-8\", newline=\"\") as n:\n",
    "        for item in non_video_files:\n",
    "            n.write(item + \"\\n\")\n",
    "\n",
    "\n",
    "\n",
    "def clean_path(path, dir):\n",
    "    return path.replace(dir, \"\")\n",
    "\n",
    "\n",
    "\n",
    "if __name__ == \"__main__\":\n",
    "    main()"
   ]
  },
  {
   "cell_type": "code",
   "execution_count": null,
   "metadata": {},
   "outputs": [],
   "source": []
  }
 ],
 "metadata": {
  "kernelspec": {
   "display_name": "Python 3",
   "language": "python",
   "name": "python3"
  },
  "language_info": {
   "codemirror_mode": {
    "name": "ipython",
    "version": 3
   },
   "file_extension": ".py",
   "mimetype": "text/x-python",
   "name": "python",
   "nbconvert_exporter": "python",
   "pygments_lexer": "ipython3",
   "version": "3.11.2"
  },
  "orig_nbformat": 4
 },
 "nbformat": 4,
 "nbformat_minor": 2
}
