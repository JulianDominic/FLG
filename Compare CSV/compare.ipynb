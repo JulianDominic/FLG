{
 "cells": [
  {
   "cell_type": "code",
   "execution_count": 12,
   "metadata": {},
   "outputs": [],
   "source": [
    "# imports\n",
    "import csv\n",
    "import os"
   ]
  },
  {
   "cell_type": "code",
   "execution_count": 13,
   "metadata": {},
   "outputs": [
    {
     "name": "stdout",
     "output_type": "stream",
     "text": [
      "['Anime_Files-D.csv', 'Anime_Files-Z.csv']\n"
     ]
    }
   ],
   "source": [
    "def main():\n",
    "    # Get a list of files in the CWD\n",
    "    compare_path = \".\\compare\\\\\"\n",
    "    available_files = os.listdir(compare_path)\n",
    "    \n",
    "    # Create a list to store the name of the csv files that we want to compare\n",
    "    files_to_compare = [file for file in available_files if file.endswith(\".csv\")]\n",
    "    print(files_to_compare)\n",
    "\n",
    "    with open(f\"{compare_path}{files_to_compare[0]}\", 'r', encoding=\"utf8\") as check_file:\n",
    "        # check_set = set([row.split(',')[0].strip().upper() for row in check_file])\n",
    "        check_set = set([row for row in check_file])\n",
    "        \n",
    "           \n",
    "    \n",
    "    with open(f\"{compare_path}{files_to_compare[1]}\", 'r', encoding=\"utf8\") as in_file, open('difference.csv', 'w') as out_file:\n",
    "        for line in in_file:\n",
    "            # if line.split(',')[0].strip().upper() not in check_set:\n",
    "            if line not in check_set:\n",
    "                out_file.write(line) \n",
    "\n",
    "\n",
    "\n",
    "if __name__ == \"__main__\":\n",
    "    main()"
   ]
  }
 ],
 "metadata": {
  "kernelspec": {
   "display_name": "Python 3",
   "language": "python",
   "name": "python3"
  },
  "language_info": {
   "codemirror_mode": {
    "name": "ipython",
    "version": 3
   },
   "file_extension": ".py",
   "mimetype": "text/x-python",
   "name": "python",
   "nbconvert_exporter": "python",
   "pygments_lexer": "ipython3",
   "version": "3.11.2"
  },
  "orig_nbformat": 4
 },
 "nbformat": 4,
 "nbformat_minor": 2
}
